{
 "cells": [
  {
   "cell_type": "code",
   "execution_count": 1,
   "metadata": {},
   "outputs": [
    {
     "name": "stderr",
     "output_type": "stream",
     "text": [
      "Using TensorFlow backend.\n"
     ]
    }
   ],
   "source": [
    "from keras.models import Sequential\n",
    "from keras.layers import Conv2D, MaxPool2D, Flatten, Dense\n",
    "from keras.preprocessing.image import ImageDataGenerator"
   ]
  },
  {
   "cell_type": "code",
   "execution_count": 2,
   "metadata": {},
   "outputs": [],
   "source": [
    "classifier = Sequential()\n",
    "\n",
    "# Step 1: Convolution\n",
    "classifier.add(Conv2D(32, (3,3), input_shape=(64, 64, 3), activation='relu'))\n",
    "\n",
    "#Step 2: Pooling\n",
    "classifier.add(MaxPool2D(pool_size=(2,2)))\n",
    "\n",
    "# Adding second convolution layer\n",
    "classifier.add(Conv2D(32, (3,3), activation='relu'))\n",
    "classifier.add(MaxPool2D(pool_size=(2,2)))\n",
    "\n",
    "# Step 3: Flattening\n",
    "classifier.add(Flatten())\n",
    "\n",
    "# Step 4: Full Connection\n",
    "classifier.add(Dense(units=128, activation='relu'))\n",
    "classifier.add(Dense(units=3, activation='softmax'))\n",
    "\n",
    "# Compiling the CNN\n",
    "classifier.compile(optimizer=\"adam\", loss=\"categorical_crossentropy\", metrics=['accuracy'])"
   ]
  },
  {
   "cell_type": "code",
   "execution_count": 3,
   "metadata": {},
   "outputs": [
    {
     "name": "stdout",
     "output_type": "stream",
     "text": [
      "_________________________________________________________________\n",
      "Layer (type)                 Output Shape              Param #   \n",
      "=================================================================\n",
      "conv2d_1 (Conv2D)            (None, 62, 62, 32)        896       \n",
      "_________________________________________________________________\n",
      "max_pooling2d_1 (MaxPooling2 (None, 31, 31, 32)        0         \n",
      "_________________________________________________________________\n",
      "conv2d_2 (Conv2D)            (None, 29, 29, 32)        9248      \n",
      "_________________________________________________________________\n",
      "max_pooling2d_2 (MaxPooling2 (None, 14, 14, 32)        0         \n",
      "_________________________________________________________________\n",
      "flatten_1 (Flatten)          (None, 6272)              0         \n",
      "_________________________________________________________________\n",
      "dense_1 (Dense)              (None, 128)               802944    \n",
      "_________________________________________________________________\n",
      "dense_2 (Dense)              (None, 3)                 387       \n",
      "=================================================================\n",
      "Total params: 813,475\n",
      "Trainable params: 813,475\n",
      "Non-trainable params: 0\n",
      "_________________________________________________________________\n"
     ]
    }
   ],
   "source": [
    "classifier.summary()"
   ]
  },
  {
   "cell_type": "code",
   "execution_count": 4,
   "metadata": {},
   "outputs": [],
   "source": [
    "train_generator = ImageDataGenerator(rescale=1./255, shear_range = 0.2, zoom_range = 0.2, horizontal_flip=True)\n",
    "test_generator = ImageDataGenerator(rescale=1./255)"
   ]
  },
  {
   "cell_type": "code",
   "execution_count": 5,
   "metadata": {},
   "outputs": [
    {
     "name": "stdout",
     "output_type": "stream",
     "text": [
      "Found 2100 images belonging to 3 classes.\n"
     ]
    }
   ],
   "source": [
    "training_set = train_generator.flow_from_directory('image/training_set',\n",
    "                                    target_size=(64, 64), batch_size=32, class_mode='categorical')"
   ]
  },
  {
   "cell_type": "code",
   "execution_count": 6,
   "metadata": {},
   "outputs": [
    {
     "name": "stdout",
     "output_type": "stream",
     "text": [
      "Found 900 images belonging to 3 classes.\n"
     ]
    }
   ],
   "source": [
    "test_set = test_generator.flow_from_directory('image/test_set',\n",
    "                                   target_size=(64, 64), batch_size=32, class_mode='categorical')"
   ]
  },
  {
   "cell_type": "code",
   "execution_count": 7,
   "metadata": {
    "scrolled": true
   },
   "outputs": [
    {
     "data": {
      "text/plain": [
       "{'banana': 0, 'pineapple': 1, 'strawberry': 2}"
      ]
     },
     "execution_count": 7,
     "metadata": {},
     "output_type": "execute_result"
    }
   ],
   "source": [
    "test_set.class_indices"
   ]
  },
  {
   "cell_type": "code",
   "execution_count": 8,
   "metadata": {},
   "outputs": [
    {
     "name": "stdout",
     "output_type": "stream",
     "text": [
      "Epoch 1/50\n",
      "2100/2100 [==============================] - 849s 404ms/step - loss: 0.3241 - acc: 0.8676 - val_loss: 0.4197 - val_acc: 0.8633\n",
      "Epoch 2/50\n",
      "2100/2100 [==============================] - 381s 181ms/step - loss: 0.0580 - acc: 0.9800 - val_loss: 0.6148 - val_acc: 0.8666\n",
      "Epoch 3/50\n",
      "2100/2100 [==============================] - 369s 176ms/step - loss: 0.0319 - acc: 0.9895 - val_loss: 0.6475 - val_acc: 0.8599\n",
      "Epoch 4/50\n",
      "2100/2100 [==============================] - 365s 174ms/step - loss: 0.0201 - acc: 0.9937 - val_loss: 0.6960 - val_acc: 0.8825\n",
      "Epoch 5/50\n",
      "2100/2100 [==============================] - 362s 172ms/step - loss: 0.0162 - acc: 0.9947 - val_loss: 0.9068 - val_acc: 0.8677\n",
      "Epoch 6/50\n",
      "2100/2100 [==============================] - 362s 172ms/step - loss: 0.0144 - acc: 0.9956 - val_loss: 0.8073 - val_acc: 0.8733\n",
      "Epoch 7/50\n",
      "2100/2100 [==============================] - 364s 173ms/step - loss: 0.0096 - acc: 0.9969 - val_loss: 0.9157 - val_acc: 0.8765\n",
      "Epoch 8/50\n",
      "2100/2100 [==============================] - 364s 173ms/step - loss: 0.0153 - acc: 0.9958 - val_loss: 0.9286 - val_acc: 0.8635\n",
      "Epoch 9/50\n",
      "2100/2100 [==============================] - 364s 173ms/step - loss: 0.0113 - acc: 0.9969 - val_loss: 1.0058 - val_acc: 0.8501\n",
      "Epoch 10/50\n",
      "2100/2100 [==============================] - 363s 173ms/step - loss: 0.0111 - acc: 0.9966 - val_loss: 1.0144 - val_acc: 0.8635\n",
      "Epoch 11/50\n",
      "2100/2100 [==============================] - 363s 173ms/step - loss: 0.0089 - acc: 0.9975 - val_loss: 0.9247 - val_acc: 0.8679\n",
      "Epoch 12/50\n",
      "2100/2100 [==============================] - 364s 173ms/step - loss: 0.0071 - acc: 0.9977 - val_loss: 0.9606 - val_acc: 0.8733\n",
      "Epoch 13/50\n",
      "2100/2100 [==============================] - 363s 173ms/step - loss: 0.0089 - acc: 0.9974 - val_loss: 1.0849 - val_acc: 0.8707\n",
      "Epoch 14/50\n",
      "2100/2100 [==============================] - 363s 173ms/step - loss: 0.0100 - acc: 0.9972 - val_loss: 1.1641 - val_acc: 0.8568\n",
      "Epoch 15/50\n",
      "2100/2100 [==============================] - 363s 173ms/step - loss: 0.0072 - acc: 0.9980 - val_loss: 1.0918 - val_acc: 0.8712\n",
      "Epoch 16/50\n",
      "2100/2100 [==============================] - 363s 173ms/step - loss: 0.0104 - acc: 0.9971 - val_loss: 1.3337 - val_acc: 0.8541\n",
      "Epoch 17/50\n",
      "2100/2100 [==============================] - 363s 173ms/step - loss: 0.0030 - acc: 0.9991 - val_loss: 1.1992 - val_acc: 0.8616\n",
      "Epoch 18/50\n",
      "2100/2100 [==============================] - 364s 173ms/step - loss: 0.0109 - acc: 0.9971 - val_loss: 1.1601 - val_acc: 0.8718\n",
      "Epoch 19/50\n",
      "2100/2100 [==============================] - 363s 173ms/step - loss: 0.0058 - acc: 0.9984 - val_loss: 1.2705 - val_acc: 0.8765\n",
      "Epoch 20/50\n",
      "2100/2100 [==============================] - 364s 173ms/step - loss: 0.0100 - acc: 0.9973 - val_loss: 1.2099 - val_acc: 0.8470\n",
      "Epoch 21/50\n",
      "2100/2100 [==============================] - 364s 173ms/step - loss: 0.0064 - acc: 0.9986 - val_loss: 1.1661 - val_acc: 0.8720\n",
      "Epoch 22/50\n",
      "2100/2100 [==============================] - 363s 173ms/step - loss: 0.0072 - acc: 0.9980 - val_loss: 1.3647 - val_acc: 0.8537\n",
      "Epoch 23/50\n",
      "2100/2100 [==============================] - 364s 174ms/step - loss: 0.0066 - acc: 0.9984 - val_loss: 1.2816 - val_acc: 0.8662\n",
      "Epoch 24/50\n",
      "2100/2100 [==============================] - 364s 173ms/step - loss: 0.0065 - acc: 0.9984 - val_loss: 1.1650 - val_acc: 0.8665\n",
      "Epoch 25/50\n",
      "2100/2100 [==============================] - 363s 173ms/step - loss: 0.0078 - acc: 0.9982 - val_loss: 1.2318 - val_acc: 0.8668\n",
      "Epoch 26/50\n",
      "2100/2100 [==============================] - 364s 173ms/step - loss: 0.0066 - acc: 0.9983 - val_loss: 1.4034 - val_acc: 0.8613\n",
      "Epoch 27/50\n",
      "2100/2100 [==============================] - 364s 173ms/step - loss: 0.0058 - acc: 0.9987 - val_loss: 1.2089 - val_acc: 0.8734\n",
      "Epoch 28/50\n",
      "2100/2100 [==============================] - 364s 173ms/step - loss: 0.0058 - acc: 0.9985 - val_loss: 1.2844 - val_acc: 0.8676\n",
      "Epoch 29/50\n",
      "2100/2100 [==============================] - 364s 173ms/step - loss: 0.0055 - acc: 0.9988 - val_loss: 1.2029 - val_acc: 0.8756\n",
      "Epoch 30/50\n",
      "2100/2100 [==============================] - 363s 173ms/step - loss: 0.0061 - acc: 0.9986 - val_loss: 1.2503 - val_acc: 0.8611\n",
      "Epoch 31/50\n",
      "2100/2100 [==============================] - 364s 173ms/step - loss: 0.0056 - acc: 0.9989 - val_loss: 1.1915 - val_acc: 0.8789\n",
      "Epoch 32/50\n",
      "2100/2100 [==============================] - 364s 173ms/step - loss: 0.0075 - acc: 0.9984 - val_loss: 1.2504 - val_acc: 0.8789\n",
      "Epoch 33/50\n",
      "2100/2100 [==============================] - 363s 173ms/step - loss: 0.0023 - acc: 0.9995 - val_loss: 1.3020 - val_acc: 0.8788\n",
      "Epoch 34/50\n",
      "2100/2100 [==============================] - 363s 173ms/step - loss: 0.0082 - acc: 0.9982 - val_loss: 1.3532 - val_acc: 0.8757\n",
      "Epoch 35/50\n",
      "2100/2100 [==============================] - 363s 173ms/step - loss: 0.0074 - acc: 0.9983 - val_loss: 1.3267 - val_acc: 0.8724\n",
      "Epoch 36/50\n",
      "2100/2100 [==============================] - 364s 173ms/step - loss: 0.0050 - acc: 0.9989 - val_loss: 1.2704 - val_acc: 0.8786\n",
      "Epoch 37/50\n",
      "2100/2100 [==============================] - 363s 173ms/step - loss: 0.0047 - acc: 0.9989 - val_loss: 1.5417 - val_acc: 0.8635\n",
      "Epoch 38/50\n",
      "2100/2100 [==============================] - 364s 173ms/step - loss: 0.0068 - acc: 0.9985 - val_loss: 1.5583 - val_acc: 0.8653\n",
      "Epoch 39/50\n",
      "2100/2100 [==============================] - 364s 173ms/step - loss: 0.0055 - acc: 0.9988 - val_loss: 1.4250 - val_acc: 0.8767\n",
      "Epoch 40/50\n",
      "2100/2100 [==============================] - 364s 173ms/step - loss: 0.0058 - acc: 0.9988 - val_loss: 1.5220 - val_acc: 0.8625\n",
      "Epoch 41/50\n",
      "2100/2100 [==============================] - 364s 173ms/step - loss: 0.0065 - acc: 0.9986 - val_loss: 1.6658 - val_acc: 0.8589\n",
      "Epoch 42/50\n",
      "2100/2100 [==============================] - 364s 173ms/step - loss: 0.0053 - acc: 0.9989 - val_loss: 1.4545 - val_acc: 0.8710\n",
      "Epoch 43/50\n",
      "2100/2100 [==============================] - 363s 173ms/step - loss: 0.0067 - acc: 0.9988 - val_loss: 1.4654 - val_acc: 0.8653\n",
      "Epoch 44/50\n",
      "2100/2100 [==============================] - 365s 174ms/step - loss: 0.0037 - acc: 0.9993 - val_loss: 1.6625 - val_acc: 0.8549\n",
      "Epoch 45/50\n",
      "2100/2100 [==============================] - 364s 173ms/step - loss: 0.0059 - acc: 0.9987 - val_loss: 1.4790 - val_acc: 0.8614\n",
      "Epoch 46/50\n",
      "2100/2100 [==============================] - 364s 173ms/step - loss: 0.0071 - acc: 0.9988 - val_loss: 1.6350 - val_acc: 0.8598\n",
      "Epoch 47/50\n",
      "2100/2100 [==============================] - 364s 173ms/step - loss: 0.0057 - acc: 0.9990 - val_loss: 1.5268 - val_acc: 0.8585\n",
      "Epoch 48/50\n",
      "2100/2100 [==============================] - 363s 173ms/step - loss: 0.0031 - acc: 0.9992 - val_loss: 1.6419 - val_acc: 0.8589\n",
      "Epoch 49/50\n",
      "2100/2100 [==============================] - 363s 173ms/step - loss: 0.0054 - acc: 0.9991 - val_loss: 1.4619 - val_acc: 0.8776\n",
      "Epoch 50/50\n",
      "2100/2100 [==============================] - 363s 173ms/step - loss: 0.0039 - acc: 0.9993 - val_loss: 1.5158 - val_acc: 0.8768\n"
     ]
    },
    {
     "data": {
      "text/plain": [
       "<keras.callbacks.History at 0x7fdc49e27630>"
      ]
     },
     "execution_count": 8,
     "metadata": {},
     "output_type": "execute_result"
    }
   ],
   "source": [
    "classifier.fit_generator(training_set, steps_per_epoch=2100, \n",
    "                         epochs=50, validation_data=test_set, validation_steps=900)"
   ]
  },
  {
   "cell_type": "code",
   "execution_count": 9,
   "metadata": {},
   "outputs": [
    {
     "name": "stdout",
     "output_type": "stream",
     "text": [
      "Saved\n"
     ]
    }
   ],
   "source": [
    "from keras.models import load_model\n",
    "classifier.save(\"model/question1.h5\")\n",
    "print(\"Saved\")"
   ]
  },
  {
   "cell_type": "code",
   "execution_count": null,
   "metadata": {},
   "outputs": [],
   "source": []
  }
 ],
 "metadata": {
  "kernelspec": {
   "display_name": "Python 3",
   "language": "python",
   "name": "python3"
  },
  "language_info": {
   "codemirror_mode": {
    "name": "ipython",
    "version": 3
   },
   "file_extension": ".py",
   "mimetype": "text/x-python",
   "name": "python",
   "nbconvert_exporter": "python",
   "pygments_lexer": "ipython3",
   "version": "3.6.5"
  }
 },
 "nbformat": 4,
 "nbformat_minor": 2
}
