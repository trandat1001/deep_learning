{
 "cells": [
  {
   "cell_type": "code",
   "execution_count": 2,
   "metadata": {},
   "outputs": [],
   "source": [
    "import pandas as pd\n",
    "import numpy as np\n",
    "import matplotlib.pyplot as plt\n",
    "import pickle \n",
    "from sklearn.model_selection import train_test_split\n",
    "from sklearn.preprocessing import StandardScaler\n",
    "%config IPCompleter.greedy=True"
   ]
  },
  {
   "cell_type": "markdown",
   "metadata": {},
   "source": [
    "Apply ANN to the problem of determining if a person has diabetes?.<br>\n",
    "For details see: https://www.kaggle.com/kumargh/pimaindiansdiabetescsv\\ \n",
    "For pima-indians-diabetes.csv data (email attachment):\n",
    "\n",
    "* Standardize data (if needed)\n",
    "* Divide data train - test at the rate of 80% - 20%\n",
    "* Build ANN model => compile model => fit model => test model.\n",
    "* With data: X_new = [[1, 189, 60, 23, 846, 30.1, 0.398, 59], [3, 88, 58, 11, 54, 24.8, 0.267, 22]], indicate the result of these 2 samples (with diabetes?)"
   ]
  },
  {
   "cell_type": "code",
   "execution_count": 3,
   "metadata": {},
   "outputs": [
    {
     "name": "stdout",
     "output_type": "stream",
     "text": [
      "<class 'pandas.core.frame.DataFrame'>\n",
      "RangeIndex: 768 entries, 0 to 767\n",
      "Data columns (total 9 columns):\n",
      "0    768 non-null int64\n",
      "1    768 non-null int64\n",
      "2    768 non-null int64\n",
      "3    768 non-null int64\n",
      "4    768 non-null int64\n",
      "5    768 non-null float64\n",
      "6    768 non-null float64\n",
      "7    768 non-null int64\n",
      "8    768 non-null int64\n",
      "dtypes: float64(2), int64(7)\n",
      "memory usage: 54.1 KB\n"
     ]
    }
   ],
   "source": [
    "dataset = pd.read_csv(\"data/pima-indians-diabetes.csv\", header=None)\n",
    "dataset.info()"
   ]
  },
  {
   "cell_type": "code",
   "execution_count": 4,
   "metadata": {},
   "outputs": [
    {
     "data": {
      "text/html": [
       "<div>\n",
       "<style scoped>\n",
       "    .dataframe tbody tr th:only-of-type {\n",
       "        vertical-align: middle;\n",
       "    }\n",
       "\n",
       "    .dataframe tbody tr th {\n",
       "        vertical-align: top;\n",
       "    }\n",
       "\n",
       "    .dataframe thead th {\n",
       "        text-align: right;\n",
       "    }\n",
       "</style>\n",
       "<table border=\"1\" class=\"dataframe\">\n",
       "  <thead>\n",
       "    <tr style=\"text-align: right;\">\n",
       "      <th></th>\n",
       "      <th>0</th>\n",
       "      <th>1</th>\n",
       "      <th>2</th>\n",
       "      <th>3</th>\n",
       "      <th>4</th>\n",
       "      <th>5</th>\n",
       "      <th>6</th>\n",
       "      <th>7</th>\n",
       "      <th>8</th>\n",
       "    </tr>\n",
       "  </thead>\n",
       "  <tbody>\n",
       "    <tr>\n",
       "      <th>0</th>\n",
       "      <td>6</td>\n",
       "      <td>148</td>\n",
       "      <td>72</td>\n",
       "      <td>35</td>\n",
       "      <td>0</td>\n",
       "      <td>33.6</td>\n",
       "      <td>0.627</td>\n",
       "      <td>50</td>\n",
       "      <td>1</td>\n",
       "    </tr>\n",
       "    <tr>\n",
       "      <th>1</th>\n",
       "      <td>1</td>\n",
       "      <td>85</td>\n",
       "      <td>66</td>\n",
       "      <td>29</td>\n",
       "      <td>0</td>\n",
       "      <td>26.6</td>\n",
       "      <td>0.351</td>\n",
       "      <td>31</td>\n",
       "      <td>0</td>\n",
       "    </tr>\n",
       "    <tr>\n",
       "      <th>2</th>\n",
       "      <td>8</td>\n",
       "      <td>183</td>\n",
       "      <td>64</td>\n",
       "      <td>0</td>\n",
       "      <td>0</td>\n",
       "      <td>23.3</td>\n",
       "      <td>0.672</td>\n",
       "      <td>32</td>\n",
       "      <td>1</td>\n",
       "    </tr>\n",
       "    <tr>\n",
       "      <th>3</th>\n",
       "      <td>1</td>\n",
       "      <td>89</td>\n",
       "      <td>66</td>\n",
       "      <td>23</td>\n",
       "      <td>94</td>\n",
       "      <td>28.1</td>\n",
       "      <td>0.167</td>\n",
       "      <td>21</td>\n",
       "      <td>0</td>\n",
       "    </tr>\n",
       "    <tr>\n",
       "      <th>4</th>\n",
       "      <td>0</td>\n",
       "      <td>137</td>\n",
       "      <td>40</td>\n",
       "      <td>35</td>\n",
       "      <td>168</td>\n",
       "      <td>43.1</td>\n",
       "      <td>2.288</td>\n",
       "      <td>33</td>\n",
       "      <td>1</td>\n",
       "    </tr>\n",
       "  </tbody>\n",
       "</table>\n",
       "</div>"
      ],
      "text/plain": [
       "   0    1   2   3    4     5      6   7  8\n",
       "0  6  148  72  35    0  33.6  0.627  50  1\n",
       "1  1   85  66  29    0  26.6  0.351  31  0\n",
       "2  8  183  64   0    0  23.3  0.672  32  1\n",
       "3  1   89  66  23   94  28.1  0.167  21  0\n",
       "4  0  137  40  35  168  43.1  2.288  33  1"
      ]
     },
     "execution_count": 4,
     "metadata": {},
     "output_type": "execute_result"
    }
   ],
   "source": [
    "dataset.head()"
   ]
  },
  {
   "cell_type": "code",
   "execution_count": 5,
   "metadata": {},
   "outputs": [
    {
     "data": {
      "text/plain": [
       "0    False\n",
       "1    False\n",
       "2    False\n",
       "3    False\n",
       "4    False\n",
       "5    False\n",
       "6    False\n",
       "7    False\n",
       "8    False\n",
       "dtype: bool"
      ]
     },
     "execution_count": 5,
     "metadata": {},
     "output_type": "execute_result"
    }
   ],
   "source": [
    "dataset.isna().any()"
   ]
  },
  {
   "cell_type": "code",
   "execution_count": 6,
   "metadata": {},
   "outputs": [],
   "source": [
    "x = dataset.iloc[:,:8]\n",
    "y = dataset.iloc[:,8]"
   ]
  },
  {
   "cell_type": "code",
   "execution_count": 7,
   "metadata": {},
   "outputs": [],
   "source": [
    "x_train, x_test, y_train, y_test = train_test_split(x, y, test_size = 0.2)\n",
    "sc = StandardScaler()\n",
    "x_train = sc.fit_transform(x_train)\n",
    "x_test = sc.fit_transform(x_test)"
   ]
  },
  {
   "cell_type": "code",
   "execution_count": 8,
   "metadata": {},
   "outputs": [
    {
     "name": "stderr",
     "output_type": "stream",
     "text": [
      "Using TensorFlow backend.\n",
      "/home/dat-tran/.local/lib/python3.6/site-packages/tensorflow/python/framework/dtypes.py:523: FutureWarning: Passing (type, 1) or '1type' as a synonym of type is deprecated; in a future version of numpy, it will be understood as (type, (1,)) / '(1,)type'.\n",
      "  _np_qint8 = np.dtype([(\"qint8\", np.int8, 1)])\n",
      "/home/dat-tran/.local/lib/python3.6/site-packages/tensorflow/python/framework/dtypes.py:524: FutureWarning: Passing (type, 1) or '1type' as a synonym of type is deprecated; in a future version of numpy, it will be understood as (type, (1,)) / '(1,)type'.\n",
      "  _np_quint8 = np.dtype([(\"quint8\", np.uint8, 1)])\n",
      "/home/dat-tran/.local/lib/python3.6/site-packages/tensorflow/python/framework/dtypes.py:525: FutureWarning: Passing (type, 1) or '1type' as a synonym of type is deprecated; in a future version of numpy, it will be understood as (type, (1,)) / '(1,)type'.\n",
      "  _np_qint16 = np.dtype([(\"qint16\", np.int16, 1)])\n",
      "/home/dat-tran/.local/lib/python3.6/site-packages/tensorflow/python/framework/dtypes.py:526: FutureWarning: Passing (type, 1) or '1type' as a synonym of type is deprecated; in a future version of numpy, it will be understood as (type, (1,)) / '(1,)type'.\n",
      "  _np_quint16 = np.dtype([(\"quint16\", np.uint16, 1)])\n",
      "/home/dat-tran/.local/lib/python3.6/site-packages/tensorflow/python/framework/dtypes.py:527: FutureWarning: Passing (type, 1) or '1type' as a synonym of type is deprecated; in a future version of numpy, it will be understood as (type, (1,)) / '(1,)type'.\n",
      "  _np_qint32 = np.dtype([(\"qint32\", np.int32, 1)])\n",
      "/home/dat-tran/.local/lib/python3.6/site-packages/tensorflow/python/framework/dtypes.py:532: FutureWarning: Passing (type, 1) or '1type' as a synonym of type is deprecated; in a future version of numpy, it will be understood as (type, (1,)) / '(1,)type'.\n",
      "  np_resource = np.dtype([(\"resource\", np.ubyte, 1)])\n"
     ]
    }
   ],
   "source": [
    "import keras\n",
    "from keras.models import Sequential\n",
    "from keras.layers import Dense, Dropout"
   ]
  },
  {
   "cell_type": "code",
   "execution_count": 9,
   "metadata": {},
   "outputs": [],
   "source": [
    "classifier = Sequential()"
   ]
  },
  {
   "cell_type": "code",
   "execution_count": 10,
   "metadata": {},
   "outputs": [],
   "source": [
    "classifier.add(Dense(units=512, kernel_initializer='uniform', activation='relu', input_dim=8))\n",
    "classifier.add(Dense(units=64, kernel_initializer='uniform', activation='relu'))\n",
    "classifier.add(Dense(units=1, kernel_initializer='uniform', activation='sigmoid'))"
   ]
  },
  {
   "cell_type": "code",
   "execution_count": 11,
   "metadata": {},
   "outputs": [],
   "source": [
    "classifier.compile(optimizer='adam', loss='binary_crossentropy', metrics=['accuracy'])"
   ]
  },
  {
   "cell_type": "code",
   "execution_count": 12,
   "metadata": {},
   "outputs": [
    {
     "name": "stdout",
     "output_type": "stream",
     "text": [
      "Train on 491 samples, validate on 123 samples\n",
      "Epoch 1/100\n",
      "491/491 [==============================] - 16s 33ms/step - loss: 0.6619 - acc: 0.6925 - val_loss: 0.5788 - val_acc: 0.7805\n",
      "Epoch 2/100\n",
      "491/491 [==============================] - 0s 173us/step - loss: 0.5203 - acc: 0.7536 - val_loss: 0.4884 - val_acc: 0.7642\n",
      "Epoch 3/100\n",
      "491/491 [==============================] - 0s 160us/step - loss: 0.4698 - acc: 0.7719 - val_loss: 0.5080 - val_acc: 0.7642\n",
      "Epoch 4/100\n",
      "491/491 [==============================] - 0s 207us/step - loss: 0.4579 - acc: 0.7800 - val_loss: 0.4920 - val_acc: 0.7642\n",
      "Epoch 5/100\n",
      "491/491 [==============================] - 0s 172us/step - loss: 0.4540 - acc: 0.7760 - val_loss: 0.4851 - val_acc: 0.7724\n",
      "Epoch 6/100\n",
      "491/491 [==============================] - 0s 200us/step - loss: 0.4469 - acc: 0.7882 - val_loss: 0.4878 - val_acc: 0.7561\n",
      "Epoch 7/100\n",
      "491/491 [==============================] - 0s 177us/step - loss: 0.4418 - acc: 0.7841 - val_loss: 0.4978 - val_acc: 0.7642\n",
      "Epoch 8/100\n",
      "491/491 [==============================] - 0s 168us/step - loss: 0.4409 - acc: 0.7943 - val_loss: 0.5110 - val_acc: 0.7480\n",
      "Epoch 9/100\n",
      "491/491 [==============================] - 0s 163us/step - loss: 0.4353 - acc: 0.7963 - val_loss: 0.4823 - val_acc: 0.7724\n",
      "Epoch 10/100\n",
      "491/491 [==============================] - 0s 168us/step - loss: 0.4315 - acc: 0.7963 - val_loss: 0.4843 - val_acc: 0.7724\n",
      "Epoch 11/100\n",
      "491/491 [==============================] - 0s 197us/step - loss: 0.4299 - acc: 0.7984 - val_loss: 0.5062 - val_acc: 0.7398\n",
      "Epoch 12/100\n",
      "491/491 [==============================] - 0s 187us/step - loss: 0.4260 - acc: 0.8024 - val_loss: 0.4903 - val_acc: 0.7724\n",
      "Epoch 13/100\n",
      "491/491 [==============================] - 0s 189us/step - loss: 0.4228 - acc: 0.8004 - val_loss: 0.4923 - val_acc: 0.7561\n",
      "Epoch 14/100\n",
      "491/491 [==============================] - 0s 173us/step - loss: 0.4217 - acc: 0.8045 - val_loss: 0.5177 - val_acc: 0.7154\n",
      "Epoch 15/100\n",
      "491/491 [==============================] - 0s 183us/step - loss: 0.4127 - acc: 0.8208 - val_loss: 0.4917 - val_acc: 0.7480\n",
      "Epoch 16/100\n",
      "491/491 [==============================] - 0s 192us/step - loss: 0.4125 - acc: 0.8024 - val_loss: 0.5300 - val_acc: 0.7154\n",
      "Epoch 17/100\n",
      "491/491 [==============================] - 0s 176us/step - loss: 0.4113 - acc: 0.8004 - val_loss: 0.5032 - val_acc: 0.7398\n",
      "Epoch 18/100\n",
      "491/491 [==============================] - 0s 150us/step - loss: 0.4039 - acc: 0.8208 - val_loss: 0.5046 - val_acc: 0.7317\n",
      "Epoch 19/100\n",
      "491/491 [==============================] - 0s 166us/step - loss: 0.3981 - acc: 0.8187 - val_loss: 0.5025 - val_acc: 0.7398\n",
      "Epoch 20/100\n",
      "491/491 [==============================] - 0s 205us/step - loss: 0.3947 - acc: 0.8310 - val_loss: 0.5485 - val_acc: 0.6992\n",
      "Epoch 21/100\n",
      "491/491 [==============================] - 0s 186us/step - loss: 0.3969 - acc: 0.8187 - val_loss: 0.5165 - val_acc: 0.7154\n",
      "Epoch 22/100\n",
      "491/491 [==============================] - 0s 174us/step - loss: 0.3869 - acc: 0.8147 - val_loss: 0.4956 - val_acc: 0.7236\n",
      "Epoch 23/100\n",
      "491/491 [==============================] - 0s 192us/step - loss: 0.3833 - acc: 0.8248 - val_loss: 0.5613 - val_acc: 0.6992\n",
      "Epoch 24/100\n",
      "491/491 [==============================] - 0s 176us/step - loss: 0.3903 - acc: 0.8289 - val_loss: 0.5418 - val_acc: 0.6992\n",
      "Epoch 25/100\n",
      "491/491 [==============================] - 0s 180us/step - loss: 0.3860 - acc: 0.8310 - val_loss: 0.5408 - val_acc: 0.7073\n",
      "Epoch 26/100\n",
      "491/491 [==============================] - 0s 168us/step - loss: 0.3760 - acc: 0.8391 - val_loss: 0.5243 - val_acc: 0.7236\n",
      "Epoch 27/100\n",
      "491/491 [==============================] - 0s 191us/step - loss: 0.3716 - acc: 0.8391 - val_loss: 0.5812 - val_acc: 0.6992\n",
      "Epoch 28/100\n",
      "491/491 [==============================] - 0s 161us/step - loss: 0.3739 - acc: 0.8228 - val_loss: 0.5410 - val_acc: 0.7073\n",
      "Epoch 29/100\n",
      "491/491 [==============================] - 0s 197us/step - loss: 0.3644 - acc: 0.8452 - val_loss: 0.5374 - val_acc: 0.7154\n",
      "Epoch 30/100\n",
      "491/491 [==============================] - 0s 193us/step - loss: 0.3575 - acc: 0.8493 - val_loss: 0.5944 - val_acc: 0.7073\n",
      "Epoch 31/100\n",
      "491/491 [==============================] - 0s 196us/step - loss: 0.3614 - acc: 0.8452 - val_loss: 0.5243 - val_acc: 0.7154\n",
      "Epoch 32/100\n",
      "491/491 [==============================] - 0s 159us/step - loss: 0.3472 - acc: 0.8513 - val_loss: 0.5500 - val_acc: 0.7154\n",
      "Epoch 33/100\n",
      "491/491 [==============================] - 0s 170us/step - loss: 0.3572 - acc: 0.8473 - val_loss: 0.5794 - val_acc: 0.7154\n",
      "Epoch 34/100\n",
      "491/491 [==============================] - 0s 185us/step - loss: 0.3621 - acc: 0.8534 - val_loss: 0.6179 - val_acc: 0.6829\n",
      "Epoch 35/100\n",
      "491/491 [==============================] - 0s 152us/step - loss: 0.3516 - acc: 0.8595 - val_loss: 0.5454 - val_acc: 0.7236\n",
      "Epoch 36/100\n",
      "491/491 [==============================] - 0s 193us/step - loss: 0.3418 - acc: 0.8513 - val_loss: 0.6141 - val_acc: 0.6992\n",
      "Epoch 37/100\n",
      "491/491 [==============================] - 0s 208us/step - loss: 0.3305 - acc: 0.8697 - val_loss: 0.6001 - val_acc: 0.6992\n",
      "Epoch 38/100\n",
      "491/491 [==============================] - 0s 165us/step - loss: 0.3280 - acc: 0.8534 - val_loss: 0.5569 - val_acc: 0.7073\n",
      "Epoch 39/100\n",
      "491/491 [==============================] - 0s 177us/step - loss: 0.3331 - acc: 0.8595 - val_loss: 0.5587 - val_acc: 0.7236\n",
      "Epoch 40/100\n",
      "491/491 [==============================] - 0s 189us/step - loss: 0.3235 - acc: 0.8656 - val_loss: 0.5797 - val_acc: 0.7236\n",
      "Epoch 41/100\n",
      "491/491 [==============================] - 0s 181us/step - loss: 0.3169 - acc: 0.8758 - val_loss: 0.5945 - val_acc: 0.7154\n",
      "Epoch 42/100\n",
      "491/491 [==============================] - 0s 167us/step - loss: 0.3042 - acc: 0.8778 - val_loss: 0.6054 - val_acc: 0.7073\n",
      "Epoch 43/100\n",
      "491/491 [==============================] - 0s 187us/step - loss: 0.3072 - acc: 0.8819 - val_loss: 0.6254 - val_acc: 0.6748\n",
      "Epoch 44/100\n",
      "491/491 [==============================] - 0s 182us/step - loss: 0.2999 - acc: 0.8697 - val_loss: 0.6426 - val_acc: 0.6911\n",
      "Epoch 45/100\n",
      "491/491 [==============================] - 0s 147us/step - loss: 0.2969 - acc: 0.8819 - val_loss: 0.5924 - val_acc: 0.7073\n",
      "Epoch 46/100\n",
      "491/491 [==============================] - 0s 200us/step - loss: 0.2965 - acc: 0.8676 - val_loss: 0.6597 - val_acc: 0.7073\n",
      "Epoch 47/100\n",
      "491/491 [==============================] - 0s 176us/step - loss: 0.2865 - acc: 0.8839 - val_loss: 0.6168 - val_acc: 0.7073\n",
      "Epoch 48/100\n",
      "491/491 [==============================] - 0s 168us/step - loss: 0.2827 - acc: 0.8798 - val_loss: 0.6957 - val_acc: 0.7073\n",
      "Epoch 49/100\n",
      "491/491 [==============================] - 0s 165us/step - loss: 0.2793 - acc: 0.8900 - val_loss: 0.6559 - val_acc: 0.7154\n",
      "Epoch 50/100\n",
      "491/491 [==============================] - 0s 169us/step - loss: 0.2755 - acc: 0.8819 - val_loss: 0.6561 - val_acc: 0.6911\n",
      "Epoch 51/100\n",
      "491/491 [==============================] - 0s 167us/step - loss: 0.2596 - acc: 0.9043 - val_loss: 0.6889 - val_acc: 0.6748\n",
      "Epoch 52/100\n",
      "491/491 [==============================] - 0s 163us/step - loss: 0.2632 - acc: 0.8859 - val_loss: 0.6036 - val_acc: 0.7154\n",
      "Epoch 53/100\n",
      "491/491 [==============================] - 0s 170us/step - loss: 0.2568 - acc: 0.9002 - val_loss: 0.6531 - val_acc: 0.6748\n",
      "Epoch 54/100\n",
      "491/491 [==============================] - 0s 168us/step - loss: 0.2491 - acc: 0.9022 - val_loss: 0.6729 - val_acc: 0.6829\n",
      "Epoch 55/100\n",
      "491/491 [==============================] - 0s 181us/step - loss: 0.2707 - acc: 0.8941 - val_loss: 0.7783 - val_acc: 0.6911\n",
      "Epoch 56/100\n",
      "491/491 [==============================] - 0s 177us/step - loss: 0.2465 - acc: 0.8880 - val_loss: 0.7258 - val_acc: 0.6667\n",
      "Epoch 57/100\n",
      "491/491 [==============================] - 0s 180us/step - loss: 0.2304 - acc: 0.9185 - val_loss: 0.6749 - val_acc: 0.7317\n",
      "Epoch 58/100\n",
      "491/491 [==============================] - 0s 171us/step - loss: 0.2236 - acc: 0.9206 - val_loss: 0.7717 - val_acc: 0.6667\n",
      "Epoch 59/100\n",
      "491/491 [==============================] - 0s 146us/step - loss: 0.2309 - acc: 0.9165 - val_loss: 0.7721 - val_acc: 0.6829\n",
      "Epoch 60/100\n",
      "491/491 [==============================] - 0s 147us/step - loss: 0.2235 - acc: 0.9124 - val_loss: 0.7770 - val_acc: 0.6992\n"
     ]
    },
    {
     "name": "stdout",
     "output_type": "stream",
     "text": [
      "Epoch 61/100\n",
      "491/491 [==============================] - 0s 156us/step - loss: 0.2403 - acc: 0.9022 - val_loss: 0.7674 - val_acc: 0.6748\n",
      "Epoch 62/100\n",
      "491/491 [==============================] - 0s 186us/step - loss: 0.2099 - acc: 0.9165 - val_loss: 0.8115 - val_acc: 0.6829\n",
      "Epoch 63/100\n",
      "491/491 [==============================] - 0s 158us/step - loss: 0.2127 - acc: 0.9124 - val_loss: 0.7220 - val_acc: 0.7236\n",
      "Epoch 64/100\n",
      "491/491 [==============================] - 0s 136us/step - loss: 0.1907 - acc: 0.9226 - val_loss: 0.7740 - val_acc: 0.6829\n",
      "Epoch 65/100\n",
      "491/491 [==============================] - 0s 162us/step - loss: 0.1903 - acc: 0.9308 - val_loss: 0.8085 - val_acc: 0.6992\n",
      "Epoch 66/100\n",
      "491/491 [==============================] - 0s 167us/step - loss: 0.1949 - acc: 0.9287 - val_loss: 0.8488 - val_acc: 0.6911\n",
      "Epoch 67/100\n",
      "491/491 [==============================] - 0s 176us/step - loss: 0.1846 - acc: 0.9328 - val_loss: 0.7117 - val_acc: 0.6829\n",
      "Epoch 68/100\n",
      "491/491 [==============================] - 0s 157us/step - loss: 0.1715 - acc: 0.9369 - val_loss: 0.7621 - val_acc: 0.7154\n",
      "Epoch 69/100\n",
      "491/491 [==============================] - 0s 175us/step - loss: 0.1659 - acc: 0.9409 - val_loss: 0.8066 - val_acc: 0.6911\n",
      "Epoch 70/100\n",
      "491/491 [==============================] - 0s 150us/step - loss: 0.1709 - acc: 0.9369 - val_loss: 0.8111 - val_acc: 0.7236\n",
      "Epoch 71/100\n",
      "491/491 [==============================] - 0s 181us/step - loss: 0.1626 - acc: 0.9430 - val_loss: 0.8591 - val_acc: 0.6829\n",
      "Epoch 72/100\n",
      "491/491 [==============================] - 0s 175us/step - loss: 0.1818 - acc: 0.9246 - val_loss: 0.8827 - val_acc: 0.7073\n",
      "Epoch 73/100\n",
      "491/491 [==============================] - 0s 173us/step - loss: 0.1681 - acc: 0.9470 - val_loss: 1.0053 - val_acc: 0.7073\n",
      "Epoch 74/100\n",
      "491/491 [==============================] - 0s 173us/step - loss: 0.1598 - acc: 0.9409 - val_loss: 0.7740 - val_acc: 0.7154\n",
      "Epoch 75/100\n",
      "491/491 [==============================] - 0s 164us/step - loss: 0.1549 - acc: 0.9430 - val_loss: 0.8830 - val_acc: 0.6829\n",
      "Epoch 76/100\n",
      "491/491 [==============================] - 0s 167us/step - loss: 0.1630 - acc: 0.9430 - val_loss: 1.1155 - val_acc: 0.6260\n",
      "Epoch 77/100\n",
      "491/491 [==============================] - 0s 180us/step - loss: 0.1990 - acc: 0.9246 - val_loss: 0.9701 - val_acc: 0.6992\n",
      "Epoch 78/100\n",
      "491/491 [==============================] - 0s 174us/step - loss: 0.1832 - acc: 0.9226 - val_loss: 0.9441 - val_acc: 0.6748\n",
      "Epoch 79/100\n",
      "491/491 [==============================] - 0s 199us/step - loss: 0.1570 - acc: 0.9470 - val_loss: 0.9695 - val_acc: 0.7236\n",
      "Epoch 80/100\n",
      "491/491 [==============================] - 0s 180us/step - loss: 0.1366 - acc: 0.9491 - val_loss: 0.8547 - val_acc: 0.6829\n",
      "Epoch 81/100\n",
      "491/491 [==============================] - 0s 167us/step - loss: 0.1354 - acc: 0.9552 - val_loss: 0.8859 - val_acc: 0.6748\n",
      "Epoch 82/100\n",
      "491/491 [==============================] - 0s 170us/step - loss: 0.1234 - acc: 0.9633 - val_loss: 0.8141 - val_acc: 0.7236\n",
      "Epoch 83/100\n",
      "491/491 [==============================] - 0s 173us/step - loss: 0.1220 - acc: 0.9572 - val_loss: 1.0038 - val_acc: 0.6667\n",
      "Epoch 84/100\n",
      "491/491 [==============================] - 0s 179us/step - loss: 0.1072 - acc: 0.9735 - val_loss: 0.8826 - val_acc: 0.6911\n",
      "Epoch 85/100\n",
      "491/491 [==============================] - 0s 174us/step - loss: 0.1087 - acc: 0.9735 - val_loss: 0.8668 - val_acc: 0.6829\n",
      "Epoch 86/100\n",
      "491/491 [==============================] - 0s 184us/step - loss: 0.1012 - acc: 0.9878 - val_loss: 0.9125 - val_acc: 0.6911\n",
      "Epoch 87/100\n",
      "491/491 [==============================] - 0s 172us/step - loss: 0.1029 - acc: 0.9756 - val_loss: 0.9207 - val_acc: 0.6829\n",
      "Epoch 88/100\n",
      "491/491 [==============================] - 0s 191us/step - loss: 0.1047 - acc: 0.9654 - val_loss: 1.1003 - val_acc: 0.6585\n",
      "Epoch 89/100\n",
      "491/491 [==============================] - 0s 175us/step - loss: 0.1011 - acc: 0.9756 - val_loss: 1.0172 - val_acc: 0.7073\n",
      "Epoch 90/100\n",
      "491/491 [==============================] - 0s 180us/step - loss: 0.1148 - acc: 0.9654 - val_loss: 0.9425 - val_acc: 0.7073\n",
      "Epoch 91/100\n",
      "491/491 [==============================] - 0s 181us/step - loss: 0.1195 - acc: 0.9633 - val_loss: 1.0110 - val_acc: 0.6748\n",
      "Epoch 92/100\n",
      "491/491 [==============================] - 0s 171us/step - loss: 0.1257 - acc: 0.9511 - val_loss: 1.2027 - val_acc: 0.6585\n",
      "Epoch 93/100\n",
      "491/491 [==============================] - 0s 185us/step - loss: 0.1278 - acc: 0.9552 - val_loss: 1.0972 - val_acc: 0.7073\n",
      "Epoch 94/100\n",
      "491/491 [==============================] - 0s 180us/step - loss: 0.1196 - acc: 0.9532 - val_loss: 1.1466 - val_acc: 0.6829\n",
      "Epoch 95/100\n",
      "491/491 [==============================] - 0s 188us/step - loss: 0.0900 - acc: 0.9715 - val_loss: 1.0115 - val_acc: 0.7154\n",
      "Epoch 96/100\n",
      "491/491 [==============================] - 0s 180us/step - loss: 0.0917 - acc: 0.9715 - val_loss: 1.1448 - val_acc: 0.6748\n",
      "Epoch 97/100\n",
      "491/491 [==============================] - 0s 190us/step - loss: 0.0725 - acc: 0.9919 - val_loss: 1.1015 - val_acc: 0.6911\n",
      "Epoch 98/100\n",
      "491/491 [==============================] - 0s 175us/step - loss: 0.0753 - acc: 0.9817 - val_loss: 1.1279 - val_acc: 0.6748\n",
      "Epoch 99/100\n",
      "491/491 [==============================] - 0s 170us/step - loss: 0.0730 - acc: 0.9857 - val_loss: 1.1245 - val_acc: 0.6911\n",
      "Epoch 100/100\n",
      "491/491 [==============================] - 0s 181us/step - loss: 0.0668 - acc: 0.9898 - val_loss: 1.1457 - val_acc: 0.6748\n"
     ]
    },
    {
     "data": {
      "text/plain": [
       "<keras.callbacks.History at 0x7efc70e345f8>"
      ]
     },
     "execution_count": 12,
     "metadata": {},
     "output_type": "execute_result"
    }
   ],
   "source": [
    "from keras.callbacks import EarlyStopping\n",
    "early_stopping_monitor = EarlyStopping(patience=10)\n",
    "classifier.fit(x_train, y_train,validation_split=0.2, batch_size=20, epochs=100)"
   ]
  },
  {
   "cell_type": "code",
   "execution_count": 13,
   "metadata": {},
   "outputs": [],
   "source": [
    "x_new = [[1, 189, 60, 23, 846, 30.1, 0.398, 59], [3, 88, 58, 11, 54, 24.8, 0.267, 22]]"
   ]
  },
  {
   "cell_type": "code",
   "execution_count": 14,
   "metadata": {},
   "outputs": [
    {
     "data": {
      "text/plain": [
       "array([[0.92494035],\n",
       "       [0.08799842]], dtype=float32)"
      ]
     },
     "execution_count": 14,
     "metadata": {},
     "output_type": "execute_result"
    }
   ],
   "source": [
    "y_new = classifier.predict(sc.fit_transform(x_new))\n",
    "y_new"
   ]
  },
  {
   "cell_type": "code",
   "execution_count": 15,
   "metadata": {},
   "outputs": [],
   "source": [
    "y_new_result = ['positive' if i > 0.5 else 'negative' for i in y_new ]"
   ]
  },
  {
   "cell_type": "code",
   "execution_count": 16,
   "metadata": {},
   "outputs": [
    {
     "data": {
      "text/plain": [
       "['positive', 'negative']"
      ]
     },
     "execution_count": 16,
     "metadata": {},
     "output_type": "execute_result"
    }
   ],
   "source": [
    "y_new_result"
   ]
  },
  {
   "cell_type": "code",
   "execution_count": 17,
   "metadata": {},
   "outputs": [
    {
     "data": {
      "text/plain": [
       "array([[76, 26],\n",
       "       [18, 34]])"
      ]
     },
     "execution_count": 17,
     "metadata": {},
     "output_type": "execute_result"
    }
   ],
   "source": [
    "from sklearn.metrics import confusion_matrix, accuracy_score\n",
    "y_pred = classifier.predict(x_test)\n",
    "y_pred = y_pred > 0.5\n",
    "cm = confusion_matrix(y_test, y_pred)\n",
    "cm"
   ]
  },
  {
   "cell_type": "code",
   "execution_count": 18,
   "metadata": {},
   "outputs": [
    {
     "name": "stdout",
     "output_type": "stream",
     "text": [
      "Accuracy:  71.42857142857143%\n"
     ]
    }
   ],
   "source": [
    "accuracy = (cm[0][0]+cm[1][1])/(cm[0][0]+cm[0][1]+cm[1][0]+cm[1][1])\n",
    "print(\"Accuracy: \", str(accuracy*100)+\"%\")"
   ]
  },
  {
   "cell_type": "code",
   "execution_count": 19,
   "metadata": {},
   "outputs": [
    {
     "name": "stdout",
     "output_type": "stream",
     "text": [
      "Accuracy:  71.42857142857143\n"
     ]
    }
   ],
   "source": [
    "print(\"Accuracy: \", accuracy_score(y_pred, y_test) * 100)"
   ]
  },
  {
   "cell_type": "code",
   "execution_count": null,
   "metadata": {},
   "outputs": [],
   "source": []
  }
 ],
 "metadata": {
  "kernelspec": {
   "display_name": "Python 3",
   "language": "python",
   "name": "python3"
  },
  "language_info": {
   "codemirror_mode": {
    "name": "ipython",
    "version": 3
   },
   "file_extension": ".py",
   "mimetype": "text/x-python",
   "name": "python",
   "nbconvert_exporter": "python",
   "pygments_lexer": "ipython3",
   "version": "3.6.5"
  }
 },
 "nbformat": 4,
 "nbformat_minor": 2
}
