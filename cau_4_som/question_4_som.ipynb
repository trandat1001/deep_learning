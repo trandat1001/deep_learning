{
 "cells": [
  {
   "cell_type": "code",
   "execution_count": 19,
   "metadata": {},
   "outputs": [],
   "source": [
    "import numpy as np\n",
    "import pandas as pd\n",
    "import matplotlib.pyplot as plt\n",
    "import lib.minisom_new as minisom\n",
    "from sklearn.preprocessing import MinMaxScaler\n",
    "%config IPCompleter.greedy=True"
   ]
  },
  {
   "cell_type": "code",
   "execution_count": 20,
   "metadata": {},
   "outputs": [
    {
     "name": "stderr",
     "output_type": "stream",
     "text": [
      "/home/dat-tran/.local/lib/python3.6/site-packages/ipykernel_launcher.py:1: ParserWarning: Falling back to the 'python' engine because the 'c' engine does not support regex separators (separators > 1 char and different from '\\s+' are interpreted as regex); you can avoid this warning by specifying engine='python'.\n",
      "  \"\"\"Entry point for launching an IPython kernel.\n"
     ]
    }
   ],
   "source": [
    "dataset = pd.read_csv(\"data/pov_12.csv\", header=None, sep=\"\\s\")"
   ]
  },
  {
   "cell_type": "code",
   "execution_count": 21,
   "metadata": {},
   "outputs": [
    {
     "name": "stdout",
     "output_type": "stream",
     "text": [
      "<class 'pandas.core.frame.DataFrame'>\n",
      "RangeIndex: 150 entries, 0 to 149\n",
      "Data columns (total 3 columns):\n",
      "0    150 non-null float64\n",
      "1    150 non-null float64\n",
      "2    150 non-null object\n",
      "dtypes: float64(2), object(1)\n",
      "memory usage: 3.6+ KB\n"
     ]
    }
   ],
   "source": [
    "dataset.info()"
   ]
  },
  {
   "cell_type": "code",
   "execution_count": 22,
   "metadata": {},
   "outputs": [
    {
     "data": {
      "text/html": [
       "<div>\n",
       "<style scoped>\n",
       "    .dataframe tbody tr th:only-of-type {\n",
       "        vertical-align: middle;\n",
       "    }\n",
       "\n",
       "    .dataframe tbody tr th {\n",
       "        vertical-align: top;\n",
       "    }\n",
       "\n",
       "    .dataframe thead th {\n",
       "        text-align: right;\n",
       "    }\n",
       "</style>\n",
       "<table border=\"1\" class=\"dataframe\">\n",
       "  <thead>\n",
       "    <tr style=\"text-align: right;\">\n",
       "      <th></th>\n",
       "      <th>0</th>\n",
       "      <th>1</th>\n",
       "      <th>2</th>\n",
       "    </tr>\n",
       "  </thead>\n",
       "  <tbody>\n",
       "    <tr>\n",
       "      <th>0</th>\n",
       "      <td>0.109393</td>\n",
       "      <td>0.085409</td>\n",
       "      <td>Cluster1</td>\n",
       "    </tr>\n",
       "    <tr>\n",
       "      <th>1</th>\n",
       "      <td>0.082571</td>\n",
       "      <td>0.101796</td>\n",
       "      <td>Cluster1</td>\n",
       "    </tr>\n",
       "    <tr>\n",
       "      <th>2</th>\n",
       "      <td>0.084990</td>\n",
       "      <td>0.113641</td>\n",
       "      <td>Cluster1</td>\n",
       "    </tr>\n",
       "    <tr>\n",
       "      <th>3</th>\n",
       "      <td>0.114611</td>\n",
       "      <td>0.115524</td>\n",
       "      <td>Cluster1</td>\n",
       "    </tr>\n",
       "    <tr>\n",
       "      <th>4</th>\n",
       "      <td>0.097356</td>\n",
       "      <td>0.095484</td>\n",
       "      <td>Cluster1</td>\n",
       "    </tr>\n",
       "  </tbody>\n",
       "</table>\n",
       "</div>"
      ],
      "text/plain": [
       "          0         1         2\n",
       "0  0.109393  0.085409  Cluster1\n",
       "1  0.082571  0.101796  Cluster1\n",
       "2  0.084990  0.113641  Cluster1\n",
       "3  0.114611  0.115524  Cluster1\n",
       "4  0.097356  0.095484  Cluster1"
      ]
     },
     "execution_count": 22,
     "metadata": {},
     "output_type": "execute_result"
    }
   ],
   "source": [
    "dataset.head()"
   ]
  },
  {
   "cell_type": "code",
   "execution_count": 23,
   "metadata": {},
   "outputs": [],
   "source": [
    "dataset[2] = dataset[2].replace({\"Cluster1\": 0, \"Cluster2\": 1, \"Cluster3\": 2})"
   ]
  },
  {
   "cell_type": "code",
   "execution_count": 24,
   "metadata": {},
   "outputs": [
    {
     "data": {
      "text/html": [
       "<div>\n",
       "<style scoped>\n",
       "    .dataframe tbody tr th:only-of-type {\n",
       "        vertical-align: middle;\n",
       "    }\n",
       "\n",
       "    .dataframe tbody tr th {\n",
       "        vertical-align: top;\n",
       "    }\n",
       "\n",
       "    .dataframe thead th {\n",
       "        text-align: right;\n",
       "    }\n",
       "</style>\n",
       "<table border=\"1\" class=\"dataframe\">\n",
       "  <thead>\n",
       "    <tr style=\"text-align: right;\">\n",
       "      <th></th>\n",
       "      <th>0</th>\n",
       "      <th>1</th>\n",
       "      <th>2</th>\n",
       "    </tr>\n",
       "  </thead>\n",
       "  <tbody>\n",
       "    <tr>\n",
       "      <th>0</th>\n",
       "      <td>0.109393</td>\n",
       "      <td>0.085409</td>\n",
       "      <td>0</td>\n",
       "    </tr>\n",
       "    <tr>\n",
       "      <th>1</th>\n",
       "      <td>0.082571</td>\n",
       "      <td>0.101796</td>\n",
       "      <td>0</td>\n",
       "    </tr>\n",
       "    <tr>\n",
       "      <th>2</th>\n",
       "      <td>0.084990</td>\n",
       "      <td>0.113641</td>\n",
       "      <td>0</td>\n",
       "    </tr>\n",
       "    <tr>\n",
       "      <th>3</th>\n",
       "      <td>0.114611</td>\n",
       "      <td>0.115524</td>\n",
       "      <td>0</td>\n",
       "    </tr>\n",
       "    <tr>\n",
       "      <th>4</th>\n",
       "      <td>0.097356</td>\n",
       "      <td>0.095484</td>\n",
       "      <td>0</td>\n",
       "    </tr>\n",
       "  </tbody>\n",
       "</table>\n",
       "</div>"
      ],
      "text/plain": [
       "          0         1  2\n",
       "0  0.109393  0.085409  0\n",
       "1  0.082571  0.101796  0\n",
       "2  0.084990  0.113641  0\n",
       "3  0.114611  0.115524  0\n",
       "4  0.097356  0.095484  0"
      ]
     },
     "execution_count": 24,
     "metadata": {},
     "output_type": "execute_result"
    }
   ],
   "source": [
    "dataset.head()"
   ]
  },
  {
   "cell_type": "code",
   "execution_count": 25,
   "metadata": {},
   "outputs": [
    {
     "data": {
      "text/plain": [
       "0    False\n",
       "1    False\n",
       "2    False\n",
       "dtype: bool"
      ]
     },
     "execution_count": 25,
     "metadata": {},
     "output_type": "execute_result"
    }
   ],
   "source": [
    "dataset.isna().any()"
   ]
  },
  {
   "cell_type": "code",
   "execution_count": 26,
   "metadata": {},
   "outputs": [],
   "source": [
    "x = dataset.iloc[:,:2].values\n",
    "y = dataset.iloc[:,2].values"
   ]
  },
  {
   "cell_type": "code",
   "execution_count": 27,
   "metadata": {},
   "outputs": [
    {
     "data": {
      "image/png": "[encoded data removed]",
      "text/plain": [
       "<Figure size 432x288 with 1 Axes>"
      ]
     },
     "metadata": {
      "needs_background": "light"
     },
     "output_type": "display_data"
    }
   ],
   "source": [
    "plt.scatter(x[:,0], x[:,1], c=\"r\")\n",
    "plt.show()"
   ]
  },
  {
   "cell_type": "code",
   "execution_count": 28,
   "metadata": {},
   "outputs": [],
   "source": [
    "som = minisom.MiniSom(x = 7, y = 7, input_len=2, sigma=1.0, learning_rate=0.2)"
   ]
  },
  {
   "cell_type": "code",
   "execution_count": 29,
   "metadata": {},
   "outputs": [],
   "source": [
    "som.random_weights_init(x)"
   ]
  },
  {
   "cell_type": "code",
   "execution_count": 30,
   "metadata": {},
   "outputs": [],
   "source": [
    "som.train_random(data = x, num_iteration=100)"
   ]
  },
  {
   "cell_type": "code",
   "execution_count": 31,
   "metadata": {},
   "outputs": [
    {
     "data": {
      "image/png": "[encoded data removed]",
      "text/plain": [
       "<Figure size 432x288 with 2 Axes>"
      ]
     },
     "metadata": {
      "needs_background": "light"
     },
     "output_type": "display_data"
    },
    {
     "data": {
      "text/plain": [
       "<Figure size 720x720 with 0 Axes>"
      ]
     },
     "metadata": {},
     "output_type": "display_data"
    }
   ],
   "source": [
    "from pylab import bone, pcolor, colorbar, plot, show\n",
    "bone()\n",
    "pcolor(som.distance_map().T)\n",
    "colorbar()\n",
    "marker = ['o', 's', 'x']\n",
    "colors = ['r', 'g', 'b']\n",
    "\n",
    "for i, x_ in enumerate(x):\n",
    "    w = som.winner(x_)\n",
    "    plt.plot(w[0] + 0.5, w[1] + 0.5,\n",
    "            marker[y[i]],\n",
    "            markeredgecolor=colors[y[i]],\n",
    "            markerfacecolor = 'None',\n",
    "            markersize=10,\n",
    "            markeredgewidth=2\n",
    "    )\n",
    "plt.figure(figsize=(10,10))\n",
    "plt.show()"
   ]
  },
  {
   "cell_type": "code",
   "execution_count": 32,
   "metadata": {},
   "outputs": [],
   "source": [
    "mapping = som.win_map(x)"
   ]
  },
  {
   "cell_type": "code",
   "execution_count": 33,
   "metadata": {},
   "outputs": [
    {
     "data": {
      "text/plain": [
       "defaultdict(list,\n",
       "            {(4, 0): [array([ 0.1093931 ,  0.08540945]),\n",
       "              array([ 0.1035013 ,  0.08033983]),\n",
       "              array([ 0.1125485 ,  0.08980322]),\n",
       "              array([ 0.30241914,  0.23868579]),\n",
       "              array([ 0.37844287,  0.29680748]),\n",
       "              array([ 0.33605196,  0.26089102]),\n",
       "              array([ 0.35989652,  0.27933646]),\n",
       "              array([ 0.70303292,  0.55855533]),\n",
       "              array([ 0.62046381,  0.49950654]),\n",
       "              array([ 0.73182946,  0.56480327]),\n",
       "              array([ 0.7248756 ,  0.57869687]),\n",
       "              array([ 0.96906114,  0.75052998])],\n",
       "             (4, 4): [array([ 0.08257057,  0.10179643]),\n",
       "              array([ 0.31788735,  0.3929813 ]),\n",
       "              array([ 0.64810876,  0.80176865])],\n",
       "             (1, 5): [array([ 0.08498981,  0.11364122]),\n",
       "              array([ 0.10590385,  0.14671171]),\n",
       "              array([ 0.08317696,  0.11053706]),\n",
       "              array([ 0.20719838,  0.28596983]),\n",
       "              array([ 0.6193956,  0.8335554])],\n",
       "             (4, 6): [array([ 0.11461114,  0.11552402]),\n",
       "              array([ 0.12654829,  0.12707368])],\n",
       "             (3, 0): [array([ 0.09735596,  0.09548404]),\n",
       "              array([ 0.1041452 ,  0.10185868]),\n",
       "              array([ 0.11583225,  0.11361505]),\n",
       "              array([ 0.1232714,  0.1208737]),\n",
       "              array([ 0.37389495,  0.36379509]),\n",
       "              array([ 0.62662554,  0.61459987]),\n",
       "              array([ 0.68561232,  0.66710198]),\n",
       "              array([ 0.82068997,  0.8033239 ])],\n",
       "             (4, 2): [array([ 0.08661202,  0.11308377]),\n",
       "              array([ 0.34046375,  0.44147381])],\n",
       "             (4, 1): [array([ 0.10734813,  0.11021331]),\n",
       "              array([ 0.74836929,  0.76916423])],\n",
       "             (3, 1): [array([ 0.07801082,  0.06810454]),\n",
       "              array([ 0.09412731,  0.08272066]),\n",
       "              array([ 0.38378397,  0.33957265]),\n",
       "              array([ 0.19395998,  0.17076656]),\n",
       "              array([ 0.3466205 ,  0.30086149]),\n",
       "              array([ 0.79507795,  0.70351415]),\n",
       "              array([ 0.81754742,  0.72082826])],\n",
       "             (4, 5): [array([ 0.10277973,  0.11647434]),\n",
       "              array([ 0.10233918,  0.11859005]),\n",
       "              array([ 0.07811325,  0.08855133]),\n",
       "              array([ 0.08594853,  0.09943451]),\n",
       "              array([ 0.25784028,  0.30091821]),\n",
       "              array([ 0.543659,  0.61653 ]),\n",
       "              array([ 0.60873067,  0.6830284 ])],\n",
       "             (5, 3): [array([ 0.07339804,  0.10783355]),\n",
       "              array([ 0.18520494,  0.27034123]),\n",
       "              array([ 0.16454685,  0.24058118]),\n",
       "              array([ 0.41344937,  0.60351399])],\n",
       "             (5, 2): [array([ 0.11325453,  0.10404664]),\n",
       "              array([ 0.06898127,  0.06346946]),\n",
       "              array([ 0.09145487,  0.08446   ]),\n",
       "              array([ 0.10381351,  0.09387552]),\n",
       "              array([ 0.34779522,  0.31286265]),\n",
       "              array([ 0.28746494,  0.26789841]),\n",
       "              array([ 0.25636506,  0.23715002]),\n",
       "              array([ 0.24854579,  0.22812652]),\n",
       "              array([ 0.67931714,  0.62991783])],\n",
       "             (0, 4): [array([ 0.12732784,  0.10836497])],\n",
       "             (2, 2): [array([ 0.10534148,  0.13110055]),\n",
       "              array([ 0.29483357,  0.37205817]),\n",
       "              array([ 0.61488496,  0.76653177])],\n",
       "             (6, 4): [array([ 0.09482703,  0.10603072]),\n",
       "              array([ 0.09483654,  0.10580884]),\n",
       "              array([ 0.08577499,  0.09550518]),\n",
       "              array([ 0.21382136,  0.23782965]),\n",
       "              array([ 0.59447647,  0.66191667]),\n",
       "              array([ 0.65067727,  0.72248987])],\n",
       "             (0, 6): [array([ 0.13583114,  0.09458096]),\n",
       "              array([ 0.12675852,  0.08827142])],\n",
       "             (2, 1): [array([ 0.1155568 ,  0.13681938]),\n",
       "              array([ 0.59165055,  0.72211662]),\n",
       "              array([ 0.56166573,  0.67720977])],\n",
       "             (1, 0): [array([ 0.1203164 ,  0.11357504]),\n",
       "              array([ 0.11025439,  0.10303178]),\n",
       "              array([ 0.07757448,  0.07265898]),\n",
       "              array([ 0.10508485,  0.09850999]),\n",
       "              array([ 0.95438738,  0.89814623])],\n",
       "             (6, 0): [array([ 0.08885898,  0.09550116]),\n",
       "              array([ 0.16747857,  0.18080396]),\n",
       "              array([ 0.26162367,  0.28150311]),\n",
       "              array([ 0.33133043,  0.36024476])],\n",
       "             (0, 0): [array([ 0.15049405,  0.08953394]),\n",
       "              array([ 0.1238253 ,  0.04916999]),\n",
       "              array([ 0.10530011,  0.06171776]),\n",
       "              array([ 0.1390286 ,  0.03989654]),\n",
       "              array([ 0.47933247,  0.25871932]),\n",
       "              array([ 0.44588219,  0.27716601]),\n",
       "              array([ 0.3422916 ,  0.21028491]),\n",
       "              array([ 0.35028364,  0.20461498]),\n",
       "              array([ 0.33150172,  0.16371187]),\n",
       "              array([ 0.29714368,  0.17858811]),\n",
       "              array([ 0.42650862,  0.25701121]),\n",
       "              array([ 0.30360676,  0.17830466]),\n",
       "              array([ 0.47732425,  0.25684558]),\n",
       "              array([ 0.4141007 ,  0.13098587]),\n",
       "              array([ 0.86693937,  0.45086638]),\n",
       "              array([ 0.64194006,  0.36256223]),\n",
       "              array([ 0.80258266,  0.47210603])],\n",
       "             (1, 1): [array([ 0.10940705,  0.1062967 ]),\n",
       "              array([ 0.11951606,  0.11474972]),\n",
       "              array([ 0.71394595,  0.69145023])],\n",
       "             (3, 4): [array([ 0.10495814,  0.11538212]),\n",
       "              array([ 0.07911435,  0.08681313])],\n",
       "             (0, 5): [array([ 0.11678673,  0.09635927]),\n",
       "              array([ 0.81196297,  0.66802081])],\n",
       "             (6, 1): [array([ 0.10747785,  0.08070522]),\n",
       "              array([ 0.2120441 ,  0.15535521]),\n",
       "              array([ 0.31671405,  0.23374152]),\n",
       "              array([ 0.28219312,  0.20588544]),\n",
       "              array([ 0.70190518,  0.51247955]),\n",
       "              array([ 0.70569771,  0.51935934]),\n",
       "              array([ 0.72631438,  0.52895046]),\n",
       "              array([ 0.83922022,  0.62036186])],\n",
       "             (3, 2): [array([ 0.053139  ,  0.09373516]),\n",
       "              array([ 0.12708799,  0.2644155 ]),\n",
       "              array([ 0.17341346,  0.40200643]),\n",
       "              array([ 0.12032359,  0.22277431]),\n",
       "              array([ 0.18266064,  0.32170445]),\n",
       "              array([ 0.40144544,  0.98523882]),\n",
       "              array([ 0.33523605,  0.80819964])],\n",
       "             (5, 4): [array([ 0.25002274,  0.26008905]),\n",
       "              array([ 0.70030175,  0.72874902])],\n",
       "             (0, 1): [array([ 0.37264788,  0.25372389]),\n",
       "              array([ 0.39243998,  0.25601978]),\n",
       "              array([ 0.30329832,  0.20477464]),\n",
       "              array([ 0.67372489,  0.44075751]),\n",
       "              array([ 0.6923639 ,  0.44913882]),\n",
       "              array([ 0.84085017,  0.57233466])],\n",
       "             (3, 6): [array([ 0.24249821,  0.40921219]),\n",
       "              array([ 0.56435564,  0.8972129 ])],\n",
       "             (2, 3): [array([ 0.22000245,  0.34699323]),\n",
       "              array([ 0.47463459,  0.72329815]),\n",
       "              array([ 0.55747323,  0.83579892])],\n",
       "             (5, 0): [array([ 0.34991041,  0.29324844])],\n",
       "             (2, 4): [array([ 0.25496266,  0.2819239 ]),\n",
       "              array([ 0.37709896,  0.4162908 ]),\n",
       "              array([ 0.65998364,  0.72848969])],\n",
       "             (6, 3): [array([ 0.28003732,  0.39231902]),\n",
       "              array([ 0.37071602,  0.52756758]),\n",
       "              array([ 0.45073907,  0.63113916])],\n",
       "             (1, 4): [array([ 0.65327532,  0.68332475])],\n",
       "             (3, 5): [array([ 0.84138551,  0.85421082])],\n",
       "             (1, 3): [array([ 0.67667683,  0.72223303]),\n",
       "              array([ 0.69051412,  0.73228058])],\n",
       "             (6, 2): [array([ 0.65325303,  0.53178285])],\n",
       "             (5, 6): [array([ 0.60294292,  0.59225718])]})"
      ]
     },
     "execution_count": 33,
     "metadata": {},
     "output_type": "execute_result"
    }
   ],
   "source": [
    "mapping"
   ]
  },
  {
   "cell_type": "code",
   "execution_count": 34,
   "metadata": {},
   "outputs": [],
   "source": [
    "labels = som.labels_map(x,y)"
   ]
  },
  {
   "cell_type": "code",
   "execution_count": 35,
   "metadata": {},
   "outputs": [
    {
     "data": {
      "text/plain": [
       "defaultdict(list,\n",
       "            {(4, 0): Counter({0: 3, 1: 4, 2: 5}),\n",
       "             (4, 4): Counter({0: 1, 1: 1, 2: 1}),\n",
       "             (1, 5): Counter({0: 3, 1: 1, 2: 1}),\n",
       "             (4, 6): Counter({0: 2}),\n",
       "             (3, 0): Counter({0: 4, 1: 1, 2: 3}),\n",
       "             (4, 2): Counter({0: 1, 1: 1}),\n",
       "             (4, 1): Counter({0: 1, 2: 1}),\n",
       "             (3, 1): Counter({0: 2, 1: 3, 2: 2}),\n",
       "             (4, 5): Counter({0: 4, 1: 1, 2: 2}),\n",
       "             (5, 3): Counter({0: 1, 1: 2, 2: 1}),\n",
       "             (5, 2): Counter({0: 4, 1: 4, 2: 1}),\n",
       "             (0, 4): Counter({0: 1}),\n",
       "             (2, 2): Counter({0: 1, 1: 1, 2: 1}),\n",
       "             (6, 4): Counter({0: 3, 1: 1, 2: 2}),\n",
       "             (0, 6): Counter({0: 2}),\n",
       "             (2, 1): Counter({0: 1, 2: 2}),\n",
       "             (1, 0): Counter({0: 4, 2: 1}),\n",
       "             (6, 0): Counter({0: 1, 1: 3}),\n",
       "             (0, 0): Counter({0: 4, 1: 10, 2: 3}),\n",
       "             (1, 1): Counter({0: 2, 2: 1}),\n",
       "             (3, 4): Counter({0: 2}),\n",
       "             (0, 5): Counter({0: 1, 2: 1}),\n",
       "             (6, 1): Counter({0: 1, 1: 3, 2: 4}),\n",
       "             (3, 2): Counter({0: 1, 1: 4, 2: 2}),\n",
       "             (5, 4): Counter({1: 1, 2: 1}),\n",
       "             (0, 1): Counter({1: 3, 2: 3}),\n",
       "             (3, 6): Counter({1: 1, 2: 1}),\n",
       "             (2, 3): Counter({1: 1, 2: 2}),\n",
       "             (5, 0): Counter({1: 1}),\n",
       "             (2, 4): Counter({1: 2, 2: 1}),\n",
       "             (6, 3): Counter({1: 1, 2: 2}),\n",
       "             (1, 4): Counter({2: 1}),\n",
       "             (3, 5): Counter({2: 1}),\n",
       "             (1, 3): Counter({2: 2}),\n",
       "             (6, 2): Counter({2: 1}),\n",
       "             (5, 6): Counter({2: 1})})"
      ]
     },
     "execution_count": 35,
     "metadata": {},
     "output_type": "execute_result"
    }
   ],
   "source": [
    "labels"
   ]
  },
  {
   "cell_type": "code",
   "execution_count": 36,
   "metadata": {},
   "outputs": [
    {
     "name": "stdout",
     "output_type": "stream",
     "text": [
      "[ 0.1  0.1] is at position: (4, 6)\n",
      "[ 0.8  0.8] is at position: (4, 6)\n",
      "[ 0.5  0.5] is at position: (4, 6)\n",
      "[ 0.74099143  0.55525575] is at position: (6, 1)\n",
      "[ 0.3704474   0.22861904] is at position: (0, 0)\n"
     ]
    }
   ],
   "source": [
    "x_test = np.array([[0.1, 0.1], [0.8,0.8], [0.5, 0.5], [0.74099143, 0.55525575], [0.3704474 , 0.22861904]])\n",
    "for item in x_test:\n",
    "    w = som.winner(item)\n",
    "    print(item, \"is at position:\", w)"
   ]
  },
  {
   "cell_type": "code",
   "execution_count": null,
   "metadata": {},
   "outputs": [],
   "source": []
  },
  {
   "cell_type": "code",
   "execution_count": null,
   "metadata": {},
   "outputs": [],
   "source": []
  }
 ],
 "metadata": {
  "kernelspec": {
   "display_name": "Python 3",
   "language": "python",
   "name": "python3"
  },
  "language_info": {
   "codemirror_mode": {
    "name": "ipython",
    "version": 3
   },
   "file_extension": ".py",
   "mimetype": "text/x-python",
   "name": "python",
   "nbconvert_exporter": "python",
   "pygments_lexer": "ipython3",
   "version": "3.6.5"
  }
 },
 "nbformat": 4,
 "nbformat_minor": 2
}
